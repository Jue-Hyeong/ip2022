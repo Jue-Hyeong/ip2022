{
  "nbformat": 4,
  "nbformat_minor": 0,
  "metadata": {
    "colab": {
      "provenance": []
    },
    "kernelspec": {
      "name": "python3",
      "display_name": "Python 3"
    },
    "language_info": {
      "name": "python"
    }
  },
  "cells": [
    {
      "cell_type": "code",
      "source": [
        "li = [3, 6, 2, 7]\n",
        "[elem*2 for elem in li]"
      ],
      "metadata": {
        "colab": {
          "base_uri": "https://localhost:8080/"
        },
        "id": "0KvoZadIMwuh",
        "outputId": "5da1af10-a4d0-413a-842d-e7e33713b61b"
      },
      "execution_count": 2,
      "outputs": [
        {
          "output_type": "execute_result",
          "data": {
            "text/plain": [
              "[6, 12, 4, 14]"
            ]
          },
          "metadata": {},
          "execution_count": 2
        }
      ]
    },
    {
      "cell_type": "code",
      "source": [
        "li = [('a',1), ('b',2), ('c',7)]\n",
        "[n*3 for (x,n) in li]"
      ],
      "metadata": {
        "colab": {
          "base_uri": "https://localhost:8080/"
        },
        "id": "41TzGMLVNMZK",
        "outputId": "61ee3026-5152-43eb-b207-b8c076e781e3"
      },
      "execution_count": 3,
      "outputs": [
        {
          "output_type": "execute_result",
          "data": {
            "text/plain": [
              "[3, 6, 21]"
            ]
          },
          "metadata": {},
          "execution_count": 3
        }
      ]
    },
    {
      "cell_type": "code",
      "source": [
        "li = [3, 6, 2, 7, 1, 9]\n",
        "[elem * 2 for elem in li if elem > 4]"
      ],
      "metadata": {
        "colab": {
          "base_uri": "https://localhost:8080/"
        },
        "id": "YEss1QCLNd4Z",
        "outputId": "f9e326b6-d652-419a-d5b2-dccf046f8bb5"
      },
      "execution_count": 4,
      "outputs": [
        {
          "output_type": "execute_result",
          "data": {
            "text/plain": [
              "[12, 14, 18]"
            ]
          },
          "metadata": {},
          "execution_count": 4
        }
      ]
    },
    {
      "cell_type": "code",
      "source": [
        "li = [3, 2, 4, 1]\n",
        "[elem *2 for elem in [item+1 for item in li] ] "
      ],
      "metadata": {
        "colab": {
          "base_uri": "https://localhost:8080/"
        },
        "id": "wBFrk-VZNoLS",
        "outputId": "0bba7ce7-7851-444c-c883-910fbe05bcfe"
      },
      "execution_count": 5,
      "outputs": [
        {
          "output_type": "execute_result",
          "data": {
            "text/plain": [
              "[8, 6, 10, 4]"
            ]
          },
          "metadata": {},
          "execution_count": 5
        }
      ]
    },
    {
      "cell_type": "code",
      "source": [],
      "metadata": {
        "id": "5kGK_V4rN3jh"
      },
      "execution_count": null,
      "outputs": []
    }
  ]
}