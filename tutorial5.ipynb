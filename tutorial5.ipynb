{
  "nbformat": 4,
  "nbformat_minor": 0,
  "metadata": {
    "colab": {
      "provenance": []
    },
    "kernelspec": {
      "name": "python3",
      "display_name": "Python 3"
    },
    "language_info": {
      "name": "python"
    }
  },
  "cells": [
    {
      "cell_type": "code",
      "execution_count": 1,
      "metadata": {
        "colab": {
          "base_uri": "https://localhost:8080/",
          "height": 137
        },
        "id": "hvLjtCsTLe3J",
        "outputId": "7a870713-a100-49af-b1f9-925bafb87d57"
      },
      "outputs": [
        {
          "output_type": "error",
          "ename": "SyntaxError",
          "evalue": "ignored",
          "traceback": [
            "\u001b[0;36m  File \u001b[0;32m\"<ipython-input-1-0fdb6a55810e>\"\u001b[0;36m, line \u001b[0;32m3\u001b[0m\n\u001b[0;31m    print \" x equals 3.\"\u001b[0m\n\u001b[0m                       ^\u001b[0m\n\u001b[0;31mSyntaxError\u001b[0m\u001b[0;31m:\u001b[0m Missing parentheses in call to 'print'. Did you mean print(\" x equals 3.\")?\n"
          ]
        }
      ],
      "source": [
        "x = 3\n",
        "if x == 3:\n",
        "  print \" x equals 3.\"\n",
        "elif x == 2:\n",
        "  print \" x equals 2.\"\n",
        "else:\n",
        "  print \" x equals something else\"\n",
        "print \" this is outside the 'if'\""
      ]
    },
    {
      "cell_type": "code",
      "source": [
        "x = 3\n",
        "if x == 3:\n",
        "  print (\" x equals 3.\")\n",
        "elif x == 2:\n",
        "  print (\" x equals 2.\")\n",
        "else:\n",
        "  print (\" x equals something else\")\n",
        "print (\" this is outside the 'if'\")"
      ],
      "metadata": {
        "colab": {
          "base_uri": "https://localhost:8080/"
        },
        "id": "e3sUOwi6LvCp",
        "outputId": "4ec18bc7-abee-4838-a968-7e20d8623bfb"
      },
      "execution_count": 2,
      "outputs": [
        {
          "output_type": "stream",
          "name": "stdout",
          "text": [
            " x equals 3.\n",
            " this is outside the 'if'\n"
          ]
        }
      ]
    },
    {
      "cell_type": "code",
      "source": [
        "x = 3\n",
        "while x < 5:\n",
        "  print (x, \"still in the loop\")\n",
        "  x = x +1"
      ],
      "metadata": {
        "colab": {
          "base_uri": "https://localhost:8080/"
        },
        "id": "s3ebmwf3L6uJ",
        "outputId": "6c414dff-13c3-4e26-d83a-ac80c56551f3"
      },
      "execution_count": 3,
      "outputs": [
        {
          "output_type": "stream",
          "name": "stdout",
          "text": [
            "3 still in the loop\n",
            "4 still in the loop\n"
          ]
        }
      ]
    },
    {
      "cell_type": "code",
      "source": [
        "x = 6 \n",
        "while x < 5:\n",
        "  print (x , \"still in the loop\")"
      ],
      "metadata": {
        "id": "yYXHCVuqMGix"
      },
      "execution_count": 4,
      "outputs": []
    },
    {
      "cell_type": "code",
      "source": [],
      "metadata": {
        "id": "v8J-IzzNMNGq"
      },
      "execution_count": null,
      "outputs": []
    }
  ]
}