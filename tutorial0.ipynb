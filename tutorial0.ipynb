{
  "nbformat": 4,
  "nbformat_minor": 0,
  "metadata": {
    "colab": {
      "provenance": []
    },
    "kernelspec": {
      "name": "python3",
      "display_name": "Python 3"
    },
    "language_info": {
      "name": "python"
    }
  },
  "cells": [
    {
      "cell_type": "code",
      "execution_count": null,
      "metadata": {
        "colab": {
          "base_uri": "https://localhost:8080/",
          "height": 137
        },
        "id": "ckMqv24nxIWh",
        "outputId": "297d8ed2-5bc7-42dd-97f8-190c08e94dec"
      },
      "outputs": [
        {
          "output_type": "error",
          "ename": "SyntaxError",
          "evalue": "ignored",
          "traceback": [
            "\u001b[0;36m  File \u001b[0;32m\"<ipython-input-1-28781be1e691>\"\u001b[0;36m, line \u001b[0;32m2\u001b[0m\n\u001b[0;31m    y = “Hello” # Another one.\u001b[0m\n\u001b[0m              ^\u001b[0m\n\u001b[0;31mSyntaxError\u001b[0m\u001b[0;31m:\u001b[0m invalid character in identifier\n"
          ]
        }
      ],
      "source": [
        "x = 34 - 23 # A comment.\n",
        "y = \"Hello\" # Another one.\n",
        "z = 3.45\n",
        "if z == 3.45 or y == “Hello”:\n",
        "x = x + 1\n",
        "y = y + “ World” # String concat.\n",
        "print x\n",
        "print y"
      ]
    },
    {
      "cell_type": "code",
      "source": [
        "x = 34 - 23 # A comment.\n",
        "y = \"Hello\" # Another one.\n",
        "z = 3.45\n",
        "if z == 3.45 or y == \"Hello\":\n",
        "  x = x + 1\n",
        "  y = y +  \"World\" # String concat.\n",
        "print x\n",
        "print y"
      ],
      "metadata": {
        "colab": {
          "base_uri": "https://localhost:8080/",
          "height": 137
        },
        "id": "LJ1kvEJTxw17",
        "outputId": "e6823c20-ab79-44f2-ff26-2ee24f17055a"
      },
      "execution_count": null,
      "outputs": [
        {
          "output_type": "error",
          "ename": "SyntaxError",
          "evalue": "ignored",
          "traceback": [
            "\u001b[0;36m  File \u001b[0;32m\"<ipython-input-2-17cdb7c459ee>\"\u001b[0;36m, line \u001b[0;32m7\u001b[0m\n\u001b[0;31m    print x\u001b[0m\n\u001b[0m          ^\u001b[0m\n\u001b[0;31mSyntaxError\u001b[0m\u001b[0;31m:\u001b[0m Missing parentheses in call to 'print'. Did you mean print(x)?\n"
          ]
        }
      ]
    },
    {
      "cell_type": "code",
      "source": [
        "x = 34 - 23 # A comment.\n",
        "y = \"Hello\" # Another one.\n",
        "z = 3.45\n",
        "if z == 3.45 or y == \"Hello\":\n",
        "  x = x + 1\n",
        "  y = y +  \"World\" # String concat.\n",
        "print (x)\n",
        "print (y)"
      ],
      "metadata": {
        "colab": {
          "base_uri": "https://localhost:8080/"
        },
        "id": "ypQezVRPyDj6",
        "outputId": "3f5c5801-b266-43c9-953f-02f69c21a7c1"
      },
      "execution_count": null,
      "outputs": [
        {
          "output_type": "stream",
          "name": "stdout",
          "text": [
            "12\n",
            "HelloWorld\n"
          ]
        }
      ]
    },
    {
      "cell_type": "code",
      "source": [],
      "metadata": {
        "id": "JyKiro7syOU7"
      },
      "execution_count": null,
      "outputs": []
    }
  ]
}